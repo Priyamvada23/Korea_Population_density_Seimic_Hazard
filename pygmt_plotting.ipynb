{
 "cells": [
  {
   "cell_type": "code",
   "execution_count": 71,
   "id": "fd818161-3873-41b2-a235-af9e0a416842",
   "metadata": {},
   "outputs": [],
   "source": [
    "import pygmt"
   ]
  },
  {
   "cell_type": "code",
   "execution_count": null,
   "id": "87e9a71e-d1e2-4664-99c1-bd48390598dc",
   "metadata": {},
   "outputs": [],
   "source": []
  },
  {
   "cell_type": "code",
   "execution_count": 72,
   "id": "28e477f6-3686-4a67-8eec-4e9457812844",
   "metadata": {},
   "outputs": [],
   "source": [
    "minlon, maxlon = 67, 75\n",
    "minlat, maxlat = 36, 41"
   ]
  },
  {
   "cell_type": "code",
   "execution_count": 73,
   "id": "1843af3c-a8b7-4cd7-85fc-f7e8952f24b7",
   "metadata": {},
   "outputs": [
    {
     "name": "stderr",
     "output_type": "stream",
     "text": [
      "makecpt [WARNING]: gebco is a discrete CPT. You can stretch it (-T<min>/<max>) but not interpolate it (-T<min>/<max>/<inc>).\n",
      "makecpt [WARNING]: Selecting the given range and ignoring the increment setting.\n"
     ]
    }
   ],
   "source": [
    "# Load sample earth relief data\n",
    "grid = pygmt.datasets.load_earth_relief(resolution=\"03s\", region=[minlon, maxlon, minlat, maxlat])\n",
    "\n",
    "frame =  [\"xa1f0.25\",\"ya1f0.25\", \"z2000+lmeters\", \"wSEnZ\"]\n",
    "\n",
    "# Make colour pallette \n",
    "pygmt.makecpt(\n",
    "        cmap='gebco',\n",
    "        series=f'0/9000/300',\n",
    "        continuous=False\n",
    "    )"
   ]
  },
  {
   "cell_type": "code",
   "execution_count": 70,
   "id": "a0a4dbfc-894d-4dca-8201-661956703a25",
   "metadata": {},
   "outputs": [],
   "source": [
    "fig = pygmt.Figure()\n",
    "fig.grdview(\n",
    "    grid=grid,\n",
    "    region=[minlon, maxlon, minlat, maxlat, 0, 9000],\n",
    "    perspective=[150, 30],\n",
    "    frame=frame,\n",
    "    projection=\"M15c\",\n",
    "    zsize=\"4c\",\n",
    "    surftype=\"i\",\n",
    "    plane=\"1000+ggrey\",\n",
    "    shading=0,\n",
    "    # Set the contour pen thickness to \"1p\"\n",
    "    contourpen=\"5p\",\n",
    ")"
   ]
  },
  {
   "cell_type": "code",
   "execution_count": 67,
   "id": "d3592e94-ba6d-4cfb-9640-d2eb91143c90",
   "metadata": {},
   "outputs": [],
   "source": [
    "fig.basemap(\n",
    "    perspective=True,\n",
    "    rose=\"jTL+w3c+l+o-2c/-1c\" #map directional rose at the top left corner \n",
    ")\n",
    "\n",
    "fig.colorbar(perspective=True, frame=[\"a2000\", \"x+l'Elevation in (m)'\", \"y+lm\"])"
   ]
  },
  {
   "cell_type": "code",
   "execution_count": 68,
   "id": "87fdbff8-873a-48c9-88e4-ad931340b19b",
   "metadata": {},
   "outputs": [],
   "source": [
    "fig.savefig(\"Taji_topo-plot_3d.png\", crop=True, dpi=300)"
   ]
  },
  {
   "cell_type": "code",
   "execution_count": null,
   "id": "56eea83c-e0fa-45bc-ab8a-ae30813271b1",
   "metadata": {},
   "outputs": [],
   "source": []
  }
 ],
 "metadata": {
  "kernelspec": {
   "display_name": "Python 3",
   "language": "python",
   "name": "python3"
  },
  "language_info": {
   "codemirror_mode": {
    "name": "ipython",
    "version": 3
   },
   "file_extension": ".py",
   "mimetype": "text/x-python",
   "name": "python",
   "nbconvert_exporter": "python",
   "pygments_lexer": "ipython3",
   "version": "3.8.8"
  }
 },
 "nbformat": 4,
 "nbformat_minor": 5
}
